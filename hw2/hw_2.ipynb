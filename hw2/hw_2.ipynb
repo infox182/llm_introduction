{
 "cells": [
  {
   "cell_type": "code",
   "execution_count": null,
   "metadata": {},
   "outputs": [],
   "source": [
    "import getpass\n",
    "import os\n",
    "import requests\n",
    "import json\n",
    "import time\n",
    "import faiss\n",
    "import datetime\n",
    "\n",
    "from langchain_gigachat.chat_models import GigaChat\n",
    "from langchain.memory import ConversationBufferMemory, ConversationBufferWindowMemory, ConversationSummaryMemory, VectorStoreRetrieverMemory\n",
    "from langchain.chains import ConversationChain\n",
    "from langchain_community.embeddings import GigaChatEmbeddings\n",
    "from langchain_core.prompts import ChatPromptTemplate, MessagesPlaceholder\n",
    "from langchain.schema import HumanMessage, SystemMessage\n",
    "from langchain.tools import tool\n",
    "from langchain_community.docstore import InMemoryDocstore\n",
    "from langchain_community.vectorstores import FAISS\n",
    "from langchain.tools import Tool\n",
    "from langchain.agents import AgentExecutor\n",
    "from langchain_gigachat.tools.giga_tool import giga_tool\n",
    "from langchain_core.messages import AIMessage, HumanMessage, SystemMessage\n",
    "from langgraph.prebuilt import create_react_agent\n",
    "from langgraph.checkpoint.memory import MemorySaver\n",
    "\n",
    "from pydantic import BaseModel, Field\n",
    "from dotenv import load_dotenv\n",
    "from dateutil import parser"
   ]
  },
  {
   "cell_type": "code",
   "execution_count": 9,
   "metadata": {},
   "outputs": [],
   "source": [
    "# Load environment variables\n",
    "load_dotenv('.env')\n",
    "giga_key = os.environ.get(\"SB_AUTH_DATA\")\n",
    "openweather_key = os.environ.get(\"OPENWEATHER_API_KEY\")"
   ]
  },
  {
   "cell_type": "markdown",
   "metadata": {},
   "source": [
    "# 1. Memory"
   ]
  },
  {
   "cell_type": "markdown",
   "metadata": {},
   "source": [
    "Define your own class implementing a simple LLM-based chatbot. You need to use at least three memory types (langchain.memory), which are set as one argument in the ```init``` definition. If the memory type has any parameters, you also need to define them as arguments in the ```init``` definition. You also need to define a ```run``` method implementing the main conversation loop, and a ```print_memory``` method to print out what exactly the memory consists of."
   ]
  },
  {
   "cell_type": "code",
   "execution_count": 6,
   "metadata": {},
   "outputs": [],
   "source": [
    "class SimpleChatBot:\n",
    "    def __init__(self, llm, memory_type, memory_window_size=5, max_token_limit=100):\n",
    "        self.llm = llm\n",
    "        self.memory = self._create_memory(memory_type, memory_window_size, max_token_limit)\n",
    "        self.conversation = ConversationChain(llm=llm, memory=self.memory, verbose=False)\n",
    "\n",
    "    def _create_memory(self, memory_type, memory_window_size, max_token_limit):\n",
    "        if memory_type == \"buffer\":\n",
    "            return ConversationBufferMemory()\n",
    "        elif memory_type == \"window\":\n",
    "            return ConversationBufferWindowMemory(k=memory_window_size)\n",
    "        elif memory_type == \"summary\":\n",
    "            return ConversationSummaryMemory(llm=self.llm, max_token_limit=max_token_limit)\n",
    "        else:\n",
    "            raise ValueError(f\"Неизвестный тип памяти: {memory_type}\")\n",
    "\n",
    "    def _respond(self, user_input):\n",
    "        response = self.conversation.predict(input=user_input)\n",
    "        return response\n",
    "\n",
    "    def print_memory(self):\n",
    "        print(\"Содержимое памяти:\")\n",
    "        if isinstance(self.memory, ConversationBufferMemory) or isinstance(self.memory, ConversationBufferWindowMemory):\n",
    "            print(self.memory.buffer)\n",
    "        elif isinstance(self.memory, ConversationSummaryMemory):\n",
    "            print(f\"Последний обмен: {self.memory.buffer}\")\n",
    "\n",
    "    def run(self):\n",
    "        print(\"This is a simple chat bot:\")\n",
    "        while True:\n",
    "            user_input = input(\"Вы: \")\n",
    "            if user_input.lower() == \"выход\":\n",
    "                break\n",
    "            response = self._respond(user_input)\n",
    "            print(f\"Бот: {response}\")\n"
   ]
  },
  {
   "cell_type": "markdown",
   "metadata": {},
   "source": [
    "Now let's check how it works with each type of memory"
   ]
  },
  {
   "cell_type": "code",
   "execution_count": 10,
   "metadata": {},
   "outputs": [
    {
     "name": "stderr",
     "output_type": "stream",
     "text": [
      "/var/folders/7l/0qq42vs92fj4kw3j3dsl2ttw0000gn/T/ipykernel_6338/1087390494.py:5: LangChainDeprecationWarning: The class `ConversationChain` was deprecated in LangChain 0.2.7 and will be removed in 1.0. Use RunnableWithMessageHistory: https://python.langchain.com/v0.2/api_reference/core/runnables/langchain_core.runnables.history.RunnableWithMessageHistory.html instead.\n",
      "  self.conversation = ConversationChain(llm=llm, memory=self.memory, verbose=False)\n"
     ]
    },
    {
     "name": "stdout",
     "output_type": "stream",
     "text": [
      "This is a simple chat bot:\n",
      "Бот: Привет! Как у тебя дела?\n",
      "Бот: Отлично! Чем занимаешься?\n",
      "Бот: AI: Какие задачи или проекты вас сейчас занимают? Может быть, есть что-то интересное или сложное, с чем вы столкнулись?\n",
      "Бот: Кажется, ты шутишь, говоря, что всё легко, но я рад, что у тебя такие интересные задачи! Расскажи, над чем именно ты сейчас работаешь? Какие технологии или инструменты используешь?\n",
      "Содержимое памяти:\n",
      "Последний обмен: Привет! AI ответил на приветствие и поинтересовался, как у меня дела. Я ответил, что все хорошо. AI спросил, чем я занимаюсь. Я сказал, что работаю. AI спросил о текущих задачах или проектах. Я ответил, что передо мной стоят интересные или сложные задачи. Человек ответил, что все легко, несмотря на сложность задач, и заинтересовался, какие технологии я использую.\n"
     ]
    }
   ],
   "source": [
    "giga = GigaChat(credentials=giga_key, model=\"GigaChat\", timeout=30, verify_ssl_certs=False)\n",
    "chat = SimpleChatBot(giga, 'summary', memory_window_size=2)\n",
    "chat.run()\n",
    "chat.print_memory()"
   ]
  },
  {
   "cell_type": "code",
   "execution_count": 12,
   "metadata": {},
   "outputs": [
    {
     "name": "stdout",
     "output_type": "stream",
     "text": [
      "This is a simple chat bot:\n",
      "Бот: Привет! Как у тебя дела?\n",
      "Бот: Похоже, что вводная часть разговора оборвалась. Если хочешь, можем продолжить с того места, где остановились, или начать новый диалог.\n",
      "Бот: Хорошо, начнем сначала! \n",
      "\n",
      "Привет! Как у тебя дела?\n",
      "Бот: Отлично! Рад слышать, что у тебя все хорошо. Чем занимаешься?\n",
      "Бот: Кажется, в нашем разговоре возникла пауза. Если у тебя есть какие-то конкретные вопросы или темы для обсуждения, я с радостью помогу!\n",
      "Бот: Похоже, разговор подошел к концу. Если захочешь снова пообщаться или обсудить какую-нибудь тему, я всегда здесь! До скорых встреч! 😊\n",
      "Содержимое памяти:\n",
      "Human: да опять работаю\n",
      "AI: Кажется, в нашем разговоре возникла пауза. Если у тебя есть какие-то конкретные вопросы или темы для обсуждения, я с радостью помогу!\n",
      "Human: пока!\n",
      "AI: Похоже, разговор подошел к концу. Если захочешь снова пообщаться или обсудить какую-нибудь тему, я всегда здесь! До скорых встреч! 😊\n"
     ]
    }
   ],
   "source": [
    "giga = GigaChat(credentials=giga_key, model=\"GigaChat\", timeout=30, verify_ssl_certs=False)\n",
    "chat = SimpleChatBot(giga, 'window', memory_window_size=2)\n",
    "chat.run()\n",
    "chat.print_memory()"
   ]
  },
  {
   "cell_type": "code",
   "execution_count": 14,
   "metadata": {},
   "outputs": [
    {
     "name": "stdout",
     "output_type": "stream",
     "text": [
      "This is a simple chat bot:\n",
      "Бот: Привет! Как у тебя дела?\n",
      "Бот: Похоже, что разговор прервался. Если у тебя есть еще вопросы или хочешь продолжить беседу, я готов помочь!\n",
      "Бот: Кажется, что в этом отрывке разговора чего-то не хватает. Возможно, стоит добавить немного контекста или уточнить, о чем идет речь. Если нужно, могу помочь развить тему или ответить на новый вопрос.\n",
      "Бот: Конечно, можем общаться столько, сколько тебе хочется! Я здесь, чтобы поддерживать интересный и полезный диалог. Какой у тебя следующий вопрос или тема для обсуждения?\n",
      "Содержимое памяти:\n",
      "Human: привет\n",
      "AI: Привет! Как у тебя дела?\n",
      "Human: хорошо\n",
      "AI: Похоже, что разговор прервался. Если у тебя есть еще вопросы или хочешь продолжить беседу, я готов помочь!\n",
      "Human: еще раз привет\n",
      "AI: Кажется, что в этом отрывке разговора чего-то не хватает. Возможно, стоит добавить немного контекста или уточнить, о чем идет речь. Если нужно, могу помочь развить тему или ответить на новый вопрос.\n",
      "Human: будем долго разговаривать?\n",
      "AI: Конечно, можем общаться столько, сколько тебе хочется! Я здесь, чтобы поддерживать интересный и полезный диалог. Какой у тебя следующий вопрос или тема для обсуждения?\n"
     ]
    }
   ],
   "source": [
    "giga = GigaChat(credentials=giga_key, model=\"GigaChat\", timeout=30, verify_ssl_certs=False)\n",
    "chat = SimpleChatBot(giga, 'buffer', memory_window_size=2)\n",
    "chat.run()\n",
    "chat.print_memory()"
   ]
  },
  {
   "cell_type": "markdown",
   "metadata": {},
   "source": [
    "Please make a short report abount differences between used memory types"
   ]
  },
  {
   "cell_type": "markdown",
   "metadata": {},
   "source": [
    "Report:\n",
    "\n",
    "- **ConversationBufferMemory**: Сохраняет всю историю диалога. Полезно для полного контекста.\n",
    "- **ConversationBufferWindowMemory**: Хранит только последние k сообщений. Подходит для учета недавних взаимодействий.\n",
    "- **ConversationSummaryMemory**: Создает резюме диалога. Идеально для сохранения общего контекста без деталей.\n"
   ]
  },
  {
   "cell_type": "markdown",
   "metadata": {},
   "source": [
    "# 2. Using tools and agents"
   ]
  },
  {
   "cell_type": "markdown",
   "metadata": {},
   "source": [
    "## 2.1 Using tools and API"
   ]
  },
  {
   "cell_type": "markdown",
   "metadata": {},
   "source": [
    "Create your own tool based on the langchain.tools library to interact with a public OpenWeather API. This tool will receive data from the API and return it as a readable result for the user.\n",
    "\n",
    "\n",
    "OpenWeather API URL: https://api.openweathermap.org/data/2.5/weather?q={city}&appid={openweather_key}&units=metric \n",
    "\n",
    "[How to get OpenWeather API key](https://docs.google.com/document/d/1vbi8QKqMZqZoCReIzpmEB_2mHsrbmXPlyGngE3jeDDw/edit)\n"
   ]
  },
  {
   "cell_type": "code",
   "execution_count": 15,
   "metadata": {},
   "outputs": [],
   "source": [
    "few_shot_examples_weather = [\n",
    "    {\n",
    "        \"request\": \"Какая погода сейчас в Ставрополе?\",\n",
    "        \"params\": {\"city\": \"Ставрополь\"},\n",
    "    }\n",
    "]\n",
    "\n",
    "class WeatherResult(BaseModel):\n",
    "    status: str = Field(description=\"Статус получения погоды\")\n",
    "    message: str = Field(description=\"Сообщение о погоде\")\n",
    "\n",
    "@giga_tool(few_shot_examples = few_shot_examples_weather)\n",
    "def get_weather(city: str) -> WeatherResult:\n",
    "    \"\"\"Получает текущую погоду для указанного города.\"\"\"\n",
    "    url = f\"https://api.openweathermap.org/data/2.5/weather?q={city}&appid={openweather_key}&units=metric\"\n",
    "    response = requests.get(url)\n",
    "    \n",
    "    if response.status_code != 200:\n",
    "        return WeatherResult(status=\"error\", message=f\"Ошибка при получении данных о погоде: {response.status_code}\")\n",
    "    \n",
    "    data = response.json()\n",
    "    timestamp = data[\"dt\"]\n",
    "    current_date = str(datetime.datetime.fromtimestamp(timestamp).strftime('%d-%m-%Y'))\n",
    "    weather_description = data[\"weather\"][0][\"description\"]\n",
    "    temperature = data[\"main\"][\"temp\"]\n",
    "    feels_like = data[\"main\"][\"feels_like\"]\n",
    "    humidity = data[\"main\"][\"humidity\"]\n",
    "    wind_speed = data[\"wind\"][\"speed\"]\n",
    "    \n",
    "    result = f\"\"\"Погода в городе {city} на {current_date}:\n",
    "                 - Описание: {weather_description}\n",
    "                 - Температура: {temperature}°C\n",
    "                 - Ощущается как: {feels_like}°C\n",
    "                 - Влажность: {humidity}%\n",
    "                 - Скорость ветра: {wind_speed} м/с\"\"\"\n",
    "    \n",
    "    return WeatherResult(status=\"success\", message=result)\n",
    "\n",
    "class OpenWeatherAPITool:\n",
    "    def __init__(self, llm, agent_function):\n",
    "        functions = [agent_function]\n",
    "        self.llm = llm.bind_functions(functions)\n",
    "        \n",
    "        self.agent = create_react_agent(llm, \n",
    "                                        functions,\n",
    "                                        state_modifier=\"Ты помощник, который предоставляет информацию о погоде.\")\n",
    "        \n",
    "    def run(self, user_input):\n",
    "        resp = self.agent.invoke({\"messages\": [HumanMessage(content=user_input)]})\n",
    "        bot_answer = resp['messages'][-1].content\n",
    "        print(\"\\033[93m\" + f\"Bot: {bot_answer}\" + \"\\033[0m\")"
   ]
  },
  {
   "cell_type": "markdown",
   "metadata": {},
   "source": [
    "Let's check it"
   ]
  },
  {
   "cell_type": "code",
   "execution_count": 16,
   "metadata": {},
   "outputs": [
    {
     "name": "stdout",
     "output_type": "stream",
     "text": [
      "\u001b[93mBot: Погода в городе Ставрополь на 24-03-2025:\n",
      "                 - Описание: ясно\n",
      "                 - Температура: 2.16°C\n",
      "                 - Ощущается как: -2.22°C\n",
      "                 - Влажность: 93%\n",
      "                 - Скорость ветра: 5 м/с\u001b[0m\n"
     ]
    }
   ],
   "source": [
    "\n",
    "giga_pro = GigaChat(credentials=giga_key, model=\"GigaChat-Pro\", timeout=30, verify_ssl_certs=False)\n",
    "\n",
    "openwheatertool = OpenWeatherAPITool(giga_pro, get_weather)\n",
    "user_input = \"Какая погода сейчас в Ставрополе?\"\n",
    "openwheatertool.run(user_input)"
   ]
  },
  {
   "cell_type": "markdown",
   "metadata": {},
   "source": [
    "## 2.2. Multi agents"
   ]
  },
  {
   "cell_type": "markdown",
   "metadata": {},
   "source": [
    "Create a multi-agent system where each agent is responsible for a specific task in the travel planning process. For example, one agent is responsible for searching for flights, another for booking hotels, and a third for finding the weather at the destination.\n",
    "\n",
    "Requirements:\n",
    "\n",
    "- Use three or more GigaChat-based agents to interact with each other.\n",
    "- The first agent is responsible for searching for flights (using ```get_url_booking_tickets``` function).\n",
    "- The second agent is responsible for booking hotels (using ```get_url_booking_hotels``` function).\n",
    "- The third agent collects weather information for the destination (using a real API, such as OpenWeather). You can use the function from the previous task (for simplify, here you can give a current weather, not a forecast for the specific date)"
   ]
  },
  {
   "cell_type": "code",
   "execution_count": 17,
   "metadata": {},
   "outputs": [],
   "source": [
    "def get_geoid(city: str) -> str:\n",
    "    url_base = 'https://suggest-maps.yandex.ru/suggest-geo'\n",
    "    params = {'search_type': 'tune', 'v': '9', 'results': 1, 'lang': 'ry_RU', 'callback': 'json'}\n",
    "    params['part'] = city\n",
    "    r = requests.get(url_base, params=params)\n",
    "    if r.ok:\n",
    "        r_text = r.text\n",
    "        r_json = r_text[5: len(r_text)-1]\n",
    "        res_json = json.loads(r_json)\n",
    "        res = res_json['results'][0]['geoid']\n",
    "    else:\n",
    "        res = ''\n",
    "    return str(res)\n",
    "\n",
    "\n",
    "class HotelBookingResult(BaseModel):\n",
    "    status: str = Field(description=\"Статус бронирования отеля\")\n",
    "    message: str = Field(description=\"Информация о бронировании\")\n",
    "\n",
    "@giga_tool\n",
    "def get_url_booking_hotels(date_in_str: str, date_out_str: str, city: str) -> HotelBookingResult:\n",
    "    \"\"\"Получает ссылку для бронирования отеля в указанном городе на указанные даты.\"\"\"\n",
    "    date_in = parser.parse(date_in_str)\n",
    "    date_out = parser.parse(date_out_str)\n",
    "    if date_in is None:\n",
    "        date_in = datetime.datetime.now()\n",
    "    if date_out is None:\n",
    "        date_out = datetime.datetime.now() + datetime.timedelta(days=1)\n",
    "    geoid = get_geoid(city)\n",
    "    url = 'https://travel.yandex.ru/hotels/search/?' \n",
    "    params = {'adults': '2', 'checkinDate': date_in.strftime('%Y-%m-%d'), 'checkoutDate': date_out.strftime('%Y-%m-%d'), 'childrenAges': '0', 'geoId': geoid}\n",
    "    for item in params:\n",
    "        url += '&' + item + '=' + params[item]\n",
    "    result = f'Ссылка для бронирования отеля: {url} в городе {city} на даты {date_in_str} / {date_out_str}'\n",
    "    return HotelBookingResult(status=\"success\", message=result)\n",
    "\n",
    "\n",
    "class TicketBookingResult(BaseModel):\n",
    "    status: str = Field(description=\"Статус бронирования билетов\")\n",
    "    message: str = Field(description=\"Информация о билетах\")\n",
    "\n",
    "@giga_tool\n",
    "def get_url_booking_tickets(city_from: str, city_to: str, date_in_str: str, date_out_str: str) -> TicketBookingResult:\n",
    "    \"\"\"Получает ссылку для бронирования авиабилетов между указанными городами на указанные даты.\"\"\"\n",
    "    date_in = parser.parse(date_in_str)\n",
    "    date_out = parser.parse(date_out_str)\n",
    "    if date_in is None:\n",
    "        date_in = datetime.datetime.now()\n",
    "    if date_out is None:\n",
    "        date_out = datetime.datetime.now() + datetime.timedelta(days=1)\n",
    "    fromid = get_geoid(city_from)\n",
    "    toid = get_geoid(city_to)\n",
    "    url = 'https://travel.yandex.ru/avia/search/result/?' \n",
    "    params = {'adults_seats': '2', 'fromId': 'c' + fromid, 'klass': 'economy', 'oneway': '2', 'return_date': date_out.strftime('%Y-%m-%d'), 'toId': 'c' + toid, 'when': date_in.strftime('%Y-%m-%d')}\n",
    "    for item in params:\n",
    "        url += '&' + item + '=' + params[item]\n",
    "    result = f'Ссылка для заказа билетов: {url} из {city_from} в {city_to} на даты {date_in_str} / {date_out_str}'\n",
    "    return TicketBookingResult(status=\"success\", message=result)\n",
    "\n",
    "\n",
    "class MultiAgent:\n",
    "    def __init__(self, llm, agent_function_weather, agent_function_hotels, agent_function_tickets):\n",
    "        self.llm = llm\n",
    "        \n",
    "        weather_functions = [agent_function_weather]\n",
    "        self.weather_llm = llm.bind_functions(weather_functions)\n",
    "        self.weather_agent = create_react_agent(\n",
    "            self.weather_llm,\n",
    "            weather_functions,\n",
    "            state_modifier=\"Ты помощник, который предоставляет информацию о погоде в городе назначения.\"\n",
    "        )\n",
    "        \n",
    "        hotel_functions = [agent_function_hotels]\n",
    "        self.hotel_llm = llm.bind_functions(hotel_functions)\n",
    "        self.hotel_agent = create_react_agent(\n",
    "            self.hotel_llm,\n",
    "            hotel_functions,\n",
    "            state_modifier=\"Ты помощник, который помогает с бронированием отелей.\"\n",
    "        )\n",
    "        \n",
    "        ticket_functions = [agent_function_tickets]\n",
    "        self.ticket_llm = llm.bind_functions(ticket_functions)\n",
    "        self.ticket_agent = create_react_agent(\n",
    "            self.ticket_llm,\n",
    "            ticket_functions,\n",
    "            state_modifier=\"Ты помощник, который помогает с поиском и бронированием авиабилетов.\"\n",
    "        )\n",
    "        \n",
    "        # Создаем координатора\n",
    "        self.coordinator_llm = llm\n",
    "        \n",
    "    def _create_agent(self, tools, system_prompt):\n",
    "        functions = tools\n",
    "        llm_with_functions = self.llm.bind_functions(functions)\n",
    "        agent = create_react_agent(\n",
    "            llm_with_functions,\n",
    "            functions,\n",
    "            state_modifier=system_prompt\n",
    "        )\n",
    "        return agent\n",
    "    \n",
    "        \n",
    "    def run(self, user_input: str):\n",
    "        coordinator_prompt = f\"\"\"\n",
    "        Ты помощник по организации путешествий. Проанализируй запрос пользователя и выдели следующую информацию:\n",
    "        - Город отправления\n",
    "        - Город назначения\n",
    "        - Дата прибытия\n",
    "        - Дата отъезда\n",
    "\n",
    "        Если какие-то данные отсутствуют, примени разумные предположения на основе контекста.\n",
    "\n",
    "        ВАЖНО: Все даты должны быть представлены в формате дд-мм-гггг (например, 01-06-2023).\n",
    "        Если дата в запросе представлена в другом формате, преобразуй её в формат дд-мм-гггг.\n",
    "\n",
    "        Верни ответ строго в формате JSON:\n",
    "        {{\n",
    "            \"city_from\": \"название города отправления\",\n",
    "            \"city_to\": \"название города назначения\",\n",
    "            \"date_in\": \"дата прибытия в формате дд-мм-гггг\",\n",
    "            \"date_out\": \"дата отъезда в формате дд-мм-гггг\"\n",
    "        }}\n",
    "\n",
    "        Запрос пользователя: {user_input}\n",
    "        \"\"\"\n",
    "        \n",
    "        coordinator_response = self.coordinator_llm.invoke(coordinator_prompt)\n",
    "        \n",
    "        try:\n",
    "            # Извлекаем JSON из ответа координатора\n",
    "            import re\n",
    "            import json\n",
    "            \n",
    "            # Найдем JSON-структуру в ответе\n",
    "            json_match = re.search(r'({[\\s\\S]*})', coordinator_response.content)\n",
    "            if json_match:\n",
    "                json_str = json_match.group(1)\n",
    "                travel_data = json.loads(json_str)\n",
    "                \n",
    "                city_from = travel_data.get(\"city_from\", \"Москва\")\n",
    "                city_to = travel_data.get(\"city_to\", \"Санкт-Петербург\")\n",
    "                date_in = travel_data.get(\"date_in\", \"01-06-2023\")\n",
    "                date_out = travel_data.get(\"date_out\", \"10-06-2023\")\n",
    "            else:\n",
    "                raise ValueError(\"JSON не найден в ответе\")\n",
    "        except Exception as e:\n",
    "            print(f\"Ошибка при обработке ответа: {e}\")\n",
    "            # Если не удалось извлечь данные, используем значения по умолчанию\n",
    "            city_from = \"Москва\"\n",
    "            city_to = \"Санкт-Петербург\"\n",
    "            date_in = \"01-06-2023\"\n",
    "            date_out = \"10-06-2023\"\n",
    "        \n",
    "        # Создаем подробное резюме о полученных данных\n",
    "        print(f\"Планируем путешествие: из {city_from} в {city_to} с {date_in} по {date_out}\")\n",
    "        \n",
    "        weather_query = f\"Какая погода в городе {city_to}?\"\n",
    "        weather_response = self.weather_agent.invoke({\"messages\": [HumanMessage(content=weather_query)]})\n",
    "        weather_info = weather_response['messages'][-1].content\n",
    "        \n",
    "        ticket_query = f\"Найди билеты из {city_from} в {city_to} на даты {date_in} и {date_out}\"\n",
    "        ticket_response = self.ticket_agent.invoke({\"messages\": [HumanMessage(content=ticket_query)]})\n",
    "        ticket_info = ticket_response['messages'][-1].content\n",
    "        \n",
    "        hotel_query = f\"Найди отели в городе {city_to} на даты {date_in} и {date_out}\"\n",
    "        hotel_response = self.hotel_agent.invoke({\"messages\": [HumanMessage(content=hotel_query)]})\n",
    "        hotel_info = hotel_response['messages'][-1].content\n",
    "        \n",
    "        answer = f\"\"\"\n",
    "        Информация о вашем путешествии из {city_from} в {city_to}:\n",
    "        \n",
    "        ПОГОДА:\n",
    "        {weather_info}\n",
    "        \n",
    "        БИЛЕТЫ:\n",
    "        {ticket_info}\n",
    "        \n",
    "        ОТЕЛИ:\n",
    "        {hotel_info}\n",
    "        \"\"\"\n",
    "        \n",
    "        return answer\n"
   ]
  },
  {
   "cell_type": "code",
   "execution_count": 18,
   "metadata": {},
   "outputs": [
    {
     "name": "stdout",
     "output_type": "stream",
     "text": [
      "Планируем путешествие: из Пенза в Санкт-Петербург с 25-03-2025 по 30-03-2025\n",
      "\n",
      "        Информация о вашем путешествии из Пенза в Санкт-Петербург:\n",
      "\n",
      "        ПОГОДА:\n",
      "        Погода в городе Санкт-Петербург на 24-03-2025:\n",
      "                 - Описание: малооблачно\n",
      "                 - Температура: 0.6°C\n",
      "                 - Ощущается как: -3.55°C\n",
      "                 - Влажность: 55%\n",
      "                 - Скорость ветра: 4 м/с\n",
      "\n",
      "        БИЛЕТЫ:\n",
      "        Ссылка для заказа билетов: https://travel.yandex.ru/avia/search/result/?&adults_seats=2&fromId=c49&klass=economy&oneway=2&return_date=2025-03-30&toId=c2&when=2025-03-25 из Пенза в Санкт-Петербург на даты 25-03-2025 / 30-03-2025\n",
      "\n",
      "        ОТЕЛИ:\n",
      "        Ссылка для бронирования отеля в городе Санкт-Петербург на указанные Вами даты (25-03-2025 - 30-03-2025) следующая: https://travel.yandex.ru/hotels/search/?&adults=2&checkinDate=2025-03-25&checkoutDate=2025-03-30&childrenAges=0&geoId=2.\n",
      "        \n"
     ]
    }
   ],
   "source": [
    "giga_pro = GigaChat(credentials=giga_key, model=\"GigaChat-Pro\", timeout=30, verify_ssl_certs=False)\n",
    "\n",
    "traveler = MultiAgent(giga_pro, get_weather, get_url_booking_hotels, get_url_booking_tickets)\n",
    "user_input = \"Организуй поездку из Пензы в Санкт-Петербург с 25.03.2025 по 30.03.2025 - отель, самолет, погода\"\n",
    "answer = traveler.run(user_input)\n",
    "print(answer)"
   ]
  }
 ],
 "metadata": {
  "kernelspec": {
   "display_name": ".venv",
   "language": "python",
   "name": "python3"
  },
  "language_info": {
   "codemirror_mode": {
    "name": "ipython",
    "version": 3
   },
   "file_extension": ".py",
   "mimetype": "text/x-python",
   "name": "python",
   "nbconvert_exporter": "python",
   "pygments_lexer": "ipython3",
   "version": "3.11.9"
  }
 },
 "nbformat": 4,
 "nbformat_minor": 2
}
